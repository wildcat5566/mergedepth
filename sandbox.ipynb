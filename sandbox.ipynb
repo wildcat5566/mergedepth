{
 "cells": [
  {
   "cell_type": "code",
   "execution_count": 1,
   "metadata": {},
   "outputs": [],
   "source": [
    "import torch\n",
    "from torch.utils.data import Dataset, DataLoader\n",
    "import torchvision\n",
    "import torchvision.datasets as datasets\n",
    "import torchvision.transforms as transforms\n",
    "import os, glob\n",
    "import numpy as np\n",
    "import random\n",
    "from PIL import Image\n",
    "import matplotlib.pyplot as plt\n",
    "import matplotlib.image as mpimg\n",
    "from src.preprocess import *\n",
    "from src.utils import *\n",
    "from src.loss import *"
   ]
  },
  {
   "cell_type": "code",
   "execution_count": 2,
   "metadata": {},
   "outputs": [],
   "source": [
    "recon = [Reconstruction(date='2011_09_26'), Reconstruction(date='2011_09_28'),\n",
    "         Reconstruction(date='2011_09_29'), Reconstruction(date='2011_09_30'),\n",
    "         Reconstruction(date='2011_10_03')]"
   ]
  },
  {
   "cell_type": "code",
   "execution_count": null,
   "metadata": {},
   "outputs": [],
   "source": [
    "#npl=np.transpose(images_l[idx].numpy(), (1, 2, 0))\n",
    "#npr=np.transpose(images_r[idx].numpy(), (1, 2, 0))\n",
    "#uni = np.dot(np.ones((npl.shape[0],npl.shape[1])), 100)\n",
    "#loss, synthesized = recon[0].compute_loss(uni, npl, npr, 'L2R')\n",
    "#print(loss)"
   ]
  },
  {
   "cell_type": "code",
   "execution_count": null,
   "metadata": {},
   "outputs": [],
   "source": [
    "#plt.imshow(synthesized)\n",
    "#plt.show()"
   ]
  },
  {
   "cell_type": "code",
   "execution_count": null,
   "metadata": {},
   "outputs": [],
   "source": []
  }
 ],
 "metadata": {
  "kernelspec": {
   "display_name": "Python 3",
   "language": "python",
   "name": "python3"
  },
  "language_info": {
   "codemirror_mode": {
    "name": "ipython",
    "version": 3
   },
   "file_extension": ".py",
   "mimetype": "text/x-python",
   "name": "python",
   "nbconvert_exporter": "python",
   "pygments_lexer": "ipython3",
   "version": "3.5.2"
  }
 },
 "nbformat": 4,
 "nbformat_minor": 2
}
