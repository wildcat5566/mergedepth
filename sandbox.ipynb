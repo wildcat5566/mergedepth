{
 "cells": [
  {
   "cell_type": "code",
   "execution_count": null,
   "metadata": {},
   "outputs": [],
   "source": [
    "import torch\n",
    "from torch.utils.data import Dataset, DataLoader\n",
    "import torchvision.transforms as transforms\n",
    "\n",
    "import time\n",
    "import os, glob\n",
    "import numpy as np\n",
    "import cv2\n",
    "import matplotlib.pyplot as plt\n",
    "import matplotlib.image as mpimg\n",
    "\n",
    "from src.utils import *\n",
    "from src.loss import *\n",
    "from src.model import *\n",
    "from src.dataset import *"
   ]
  },
  {
   "cell_type": "code",
   "execution_count": null,
   "metadata": {},
   "outputs": [],
   "source": [
    "kitti_ds = KittiStereoLidar(\n",
    "    im_left_dir=glob.glob(\"data/left_imgs/*/*\"), \n",
    "    im_right_dir=glob.glob(\"data/right_imgs/*/*\"),\n",
    "    gt_left_dir=glob.glob(\"data/left_gt/*/*\"), \n",
    "    gt_right_dir=glob.glob(\"data/right_gt/*/*\"),\n",
    "    transform=transforms.Compose([transforms.Resize((197,645)),\n",
    "                                  transforms.ToTensor()])\n",
    ")\n",
    "\n",
    "# 2011_09_26_drive_0001_sync/\n",
    "# Resize issues\n",
    "# Original(375,1242)\n",
    "# (389,1285)->(384, 1280)->(160,320)\n",
    "# (197,645)->(192,640)->(96,320)"
   ]
  },
  {
   "cell_type": "code",
   "execution_count": null,
   "metadata": {
    "scrolled": true
   },
   "outputs": [],
   "source": [
    "print(len(kitti_ds))\n",
    "batch_size = 4\n",
    "train_loader = DataLoader(dataset=kitti_ds, \n",
    "                          batch_size=batch_size, \n",
    "                          shuffle=True, \n",
    "                          num_workers=6)\n",
    " \n",
    "dataiter = iter(train_loader) #21972"
   ]
  },
  {
   "cell_type": "code",
   "execution_count": null,
   "metadata": {},
   "outputs": [],
   "source": [
    "\"\"\"def imshow(iml, imr, scl, scr):\n",
    "    npl = np.transpose(iml.numpy(), (1,2,0))\n",
    "    npr = np.transpose(imr.numpy(), (1,2,0))\n",
    "    f, (ax1, ax2)=plt.subplots(1,2,figsize=(18,6))\n",
    "\n",
    "    ax1.set_title('Left view')\n",
    "    ax1.imshow(npl)\n",
    "    ax2.set_title('Right view')\n",
    "    ax2.imshow(npr)\n",
    "\n",
    "images_l, images_r, scans_l, scans_r = dataiter.next()\n",
    "\n",
    "print(scans_r[1])\n",
    "scr = np.load(scans_l[1])\n",
    "scl = np.load(scans_r[1])\n",
    "\n",
    "imshow(images_l[1], images_r[1], scl, scr)\"\"\"\n",
    "print()"
   ]
  },
  {
   "cell_type": "code",
   "execution_count": null,
   "metadata": {},
   "outputs": [],
   "source": [
    "# Depth prediction networks for left & right view sets respectively\n",
    "L = Network()\n",
    "#R = Network()\n",
    "L = torch.nn.DataParallel(L).cuda()"
   ]
  },
  {
   "cell_type": "code",
   "execution_count": null,
   "metadata": {},
   "outputs": [],
   "source": [
    "# Dimension test\n",
    "#images_l, images_r, scans_l, scans_r = dataiter.next()\n",
    "#images_l = images_l.cuda()"
   ]
  },
  {
   "cell_type": "code",
   "execution_count": null,
   "metadata": {},
   "outputs": [],
   "source": [
    "#Precalculate mapping parameters\n",
    "reconstruct_functions = [Reconstruction(date='2011_09_26'), Reconstruction(date='2011_09_28'),\n",
    "                         Reconstruction(date='2011_09_29'), Reconstruction(date='2011_09_30'),\n",
    "                         Reconstruction(date='2011_10_03')]\n",
    "\n",
    "def normalize_prediction(map_input, scale=100):\n",
    "    M, m=np.amax(map_input), np.amin(map_input)\n",
    "    return (map_input - m)*(scale / (M-m))\n",
    "\n",
    "def get_unsu_loss(depth_maps, src_imgs, tar_imgs, direction, dates):\n",
    "    \n",
    "    batch_loss = 0\n",
    "    for[dep,src,tar,dat] in zip(depth_maps, src_imgs, tar_imgs, dates):\n",
    "        if dat=='2011_09_26':\n",
    "            recf = reconstruct_functions[0]\n",
    "        elif dat=='2011_09_28':\n",
    "            recf = reconstruct_functions[1]\n",
    "        elif dat=='2011_09_29':\n",
    "            recf = reconstruct_functions[2]\n",
    "        elif dat=='2011_09_30':\n",
    "            recf = reconstruct_functions[3]\n",
    "        elif dat=='2011_10_03':\n",
    "            recf = reconstruct_functions[4]\n",
    "\n",
    "        # Depth map: transpose-->resize to src-->normalize\n",
    "        dep = cv2.resize(np.transpose(dep, (1,2,0)).squeeze(), (645,197))\n",
    "        \n",
    "        # Source & target image: transpose\n",
    "        src = np.transpose(src, (1,2,0))\n",
    "        tar = np.transpose(tar, (1,2,0))\n",
    "        \n",
    "        # Calculate sample loss\n",
    "        sample_loss, _ = recf.compute_loss(dep, src, tar, direction)\n",
    "        batch_loss += sample_loss\n",
    "\n",
    "    return batch_loss / batch_size\n",
    "    \n",
    "def get_su_loss(depth_maps, scan_files):\n",
    "    \n",
    "    batch_loss = 0\n",
    "    for[dep, scan_file] in zip(depth_maps, scan_files):\n",
    "        dots = np.load(scan_file) / 100 #values within [0,1]\n",
    "        dep = cv2.resize(np.transpose(dep, (1,2,0)).squeeze(), (1242,375))\n",
    "        sample_loss = gt_loss(dep, dots) #float\n",
    "        batch_loss += sample_loss\n",
    "\n",
    "    return batch_loss / batch_size\n",
    "    "
   ]
  },
  {
   "cell_type": "code",
   "execution_count": null,
   "metadata": {},
   "outputs": [],
   "source": [
    "# Only detach once\n",
    "#dates = [s[13:23] for s in scans_l]\n",
    "#depths_l = normalize_prediction(depths_l.detach().numpy())\n",
    "#images_l = images_l.detach().numpy()\n",
    "#images_r = images_r.detach().numpy()"
   ]
  },
  {
   "cell_type": "code",
   "execution_count": null,
   "metadata": {},
   "outputs": [],
   "source": [
    "# Compute losses respectively\n",
    "#u_loss = get_unsu_loss(depth_maps=depths_l, src_imgs=images_l, tar_imgs=images_r, direction='L2R', dates=dates)\n",
    "#s_loss = get_su_loss(depth_maps=depths_l, scan_files=scans_l)\n",
    "#s_loss, u_loss"
   ]
  },
  {
   "cell_type": "code",
   "execution_count": null,
   "metadata": {},
   "outputs": [],
   "source": [
    "n_epochs = 10\n",
    "alpha = 0.5\n",
    "lr = 5e-3#2e-6 #for no sigmoid\n",
    "L_optimizer = torch.optim.Adam(L.parameters(), lr=lr)"
   ]
  },
  {
   "cell_type": "code",
   "execution_count": null,
   "metadata": {
    "scrolled": true
   },
   "outputs": [],
   "source": [
    "L.train()\n",
    "\n",
    "for epoch in range(n_epochs):\n",
    "    # monitor training loss\n",
    "    train_loss = 0.0\n",
    "    batch_count = 1\n",
    "    print_every = 50\n",
    "    time_start = time.time()\n",
    "\n",
    "    for images_l, images_r, scans_l, scans_r in train_loader: #images_l: torch.Size([batch_size, 3, 197, 645])\n",
    "        L_optimizer.zero_grad()\n",
    "        \n",
    "        # Make depth predictions\n",
    "        images_l = images_l.cuda()\n",
    "        images_r = images_l.cuda()\n",
    "        depths_l = L(images_l)\n",
    "        \n",
    "        # Back to numpy & normalize\n",
    "        il = images_l.cpu().numpy()\n",
    "        ir = images_r.cpu().numpy()\n",
    "        dl = depths_l.cpu().detach().numpy()\n",
    "\n",
    "        #if epoch == 0 and batch_count == 1:\n",
    "        #    print(\"+1\")\n",
    "        #    dl += 1 #avoid all-zeros\n",
    "        \n",
    "        drive_dates = [s[13:23] for s in scans_l]\n",
    "        \n",
    "        unsu_loss_L2R = get_unsu_loss(depth_maps=normalize_prediction(dl), \n",
    "                                      src_imgs=il, tar_imgs=ir, direction='L2R', dates=drive_dates)\n",
    "        su_loss_L = get_su_loss(depth_maps=dl, scan_files=scans_l)\n",
    "        loss = [alpha*su_loss_L + (1 - alpha)*unsu_loss_L2R]\n",
    "        #loss = [su_loss_L]\n",
    "        \n",
    "        loss = torch.Tensor(loss).requires_grad_(True)\n",
    "        loss.backward()\n",
    "        \n",
    "        L_optimizer.step()\n",
    "        train_loss += loss.item()\n",
    "        \n",
    "        step_loss = train_loss / (batch_count * batch_size)\n",
    "        \n",
    "        if batch_count % print_every == 0:\n",
    "            #print(su_loss_L, unsu_loss_L2R)\n",
    "            mean_std = (np.mean(dl), np.std(dl), np.amax(dl), np.amin(dl))\n",
    "            print('Epoch: {} \\tStep Loss: {:.6f} \\tMean/Std/Max/Min: {}'.format(\n",
    "                  epoch+1, \n",
    "                  step_loss,\n",
    "                  mean_std \n",
    "            ))\n",
    "            \n",
    "        batch_count += 1\n",
    "            \n",
    "             \n",
    "    # calculate average loss over an epoch\n",
    "    train_loss = train_loss / len(train_loader.sampler) #image pair count\n",
    "    time_elapsed = time.time() - time_start\n",
    "\n",
    "    print('Epoch: {} \\tTraining Loss: {:.6f} \\tEpoch training time: {} seconds'.format(\n",
    "        epoch+1, \n",
    "        train_loss,\n",
    "        time_elapsed\n",
    "        ))\n"
   ]
  },
  {
   "cell_type": "code",
   "execution_count": null,
   "metadata": {},
   "outputs": [],
   "source": []
  }
 ],
 "metadata": {
  "kernelspec": {
   "display_name": "Python 3",
   "language": "python",
   "name": "python3"
  },
  "language_info": {
   "codemirror_mode": {
    "name": "ipython",
    "version": 3
   },
   "file_extension": ".py",
   "mimetype": "text/x-python",
   "name": "python",
   "nbconvert_exporter": "python",
   "pygments_lexer": "ipython3",
   "version": "3.5.2"
  }
 },
 "nbformat": 4,
 "nbformat_minor": 2
}
